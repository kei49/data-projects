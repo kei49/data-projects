{
 "cells": [
  {
   "cell_type": "markdown",
   "metadata": {},
   "source": [
    "## Spark Test"
   ]
  },
  {
   "cell_type": "code",
   "execution_count": 1,
   "metadata": {},
   "outputs": [],
   "source": [
    "import findspark\n",
    "findspark.init()\n",
    "\n",
    "import pyspark\n",
    "sc = pyspark.SparkContext()"
   ]
  },
  {
   "cell_type": "code",
   "execution_count": 2,
   "metadata": {},
   "outputs": [
    {
     "data": {
      "text/plain": [
       "[['title,authors,price,published_date,head,detail,ico', 's,ebook,csv,', 'um'],\n",
       " ['家なき子〔上〕,\"'],\n",
       " ['エクトール・マロ／著'],\n",
       " ['            、村松潔／訳'],\n",
       " ['                        \",767円（税込）,発売日：2019/09/01,,,[],False,0,0'],\n",
       " ['家なき子〔下〕,\"'],\n",
       " ['エクトール・マロ／著'],\n",
       " ['            、村松潔／訳'],\n",
       " ['                        \",853円（税込）,発売日：2019/09/01,,,[],False,0,1'],\n",
       " ['堕落刑事―マンチェスター市警 エイダン・ウェイツ―,\"']]"
      ]
     },
     "execution_count": 2,
     "metadata": {},
     "output_type": "execute_result"
    }
   ],
   "source": [
    "f = sc.textFile('books.csv')\n",
    "data = f.map(lambda line: line.split('n'))\n",
    "data.take(10)"
   ]
  }
 ],
 "metadata": {
  "kernelspec": {
   "display_name": "Python 3",
   "language": "python",
   "name": "python3"
  },
  "language_info": {
   "codemirror_mode": {
    "name": "ipython",
    "version": 3
   },
   "file_extension": ".py",
   "mimetype": "text/x-python",
   "name": "python",
   "nbconvert_exporter": "python",
   "pygments_lexer": "ipython3",
   "version": "3.6.0"
  }
 },
 "nbformat": 4,
 "nbformat_minor": 2
}
